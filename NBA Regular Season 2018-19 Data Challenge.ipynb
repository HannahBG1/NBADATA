{
 "cells": [
  {
   "cell_type": "markdown",
   "metadata": {},
   "source": [
    "# Nba Regular Season 2018-19 Data Challenge\n",
    "\n",
    "Your task will be to take the dataset given, and create an analysis answering the following 10 questions. This project will again test your knowledge of pandas in order to find the answers needed given the data you are presented with."
   ]
  },
  {
   "cell_type": "markdown",
   "metadata": {},
   "source": [
    "# What was the average age of player in the league?"
   ]
  },
  {
   "cell_type": "code",
   "execution_count": 12,
   "metadata": {},
   "outputs": [
    {
     "name": "stdout",
     "output_type": "stream",
     "text": [
      "Average Age of NBA PLayers: 25.900191938579656\n"
     ]
    }
   ],
   "source": [
    "import pandas as pd\n",
    "\n",
    "nba18 = pd.read_csv('../Downloads/nbastats2018-2019.csv', sep = ',')\n",
    "nba19 = pd.read_csv('../Downloads/nbastats2018-2019.csv', sep = ',')\n",
    "\n",
    "nba = pd.concat([nba18, nba19])\n",
    "\n",
    "ages = nba['Age']\n",
    "\n",
    "average_age = ages.mean()\n",
    "\n",
    "print(\"Average Age of NBA PLayers:\", average_age)\n",
    "\n",
    "\n"
   ]
  },
  {
   "cell_type": "markdown",
   "metadata": {},
   "source": [
    "# What player scored the most points?"
   ]
  },
  {
   "cell_type": "code",
   "execution_count": 27,
   "metadata": {},
   "outputs": [
    {
     "name": "stdout",
     "output_type": "stream",
     "text": [
      "Player who scored the most points:\n",
      "             Name  Height  Weight             Team  Age    Salary  Points  \\\n",
      "202  James Harden      77     220  Houston Rockets   29  30431854    36.1   \n",
      "202  James Harden      77     220  Houston Rockets   29  30431854    36.1   \n",
      "\n",
      "     Blocks  Steals  Assists  ...    MP   G   PER   OWS  DWS    WS   WS48  \\\n",
      "202     0.7     2.0      7.5  ...  36.8  78  30.6  11.4  3.8  15.2  0.254   \n",
      "202     0.7     2.0      7.5  ...  36.8  78  30.6  11.4  3.8  15.2  0.254   \n",
      "\n",
      "      USG   BPM  VORP  \n",
      "202  40.5  11.7   9.9  \n",
      "202  40.5  11.7   9.9  \n",
      "\n",
      "[2 rows x 27 columns]\n"
     ]
    }
   ],
   "source": [
    "nba18 = pd.read_csv('../Downloads/nbastats2018-2019.csv', sep=',')\n",
    "nba19 = pd.read_csv('../Downloads/nbastats2018-2019.csv', sep=',')\n",
    "\n",
    "\n",
    "nba = pd.concat([nba18, nba19])\n",
    "\n",
    "max_points_player = nba.loc[nba['Points'].idxmax()]\n",
    "\n",
    "print(\"Player who scored the most points:\")\n",
    "print(max_points_player)\n"
   ]
  },
  {
   "cell_type": "markdown",
   "metadata": {},
   "source": [
    "# What player had the most blocks during the season? Was it a post player (F/C)?"
   ]
  },
  {
   "cell_type": "code",
   "execution_count": 34,
   "metadata": {},
   "outputs": [
    {
     "name": "stdout",
     "output_type": "stream",
     "text": [
      "Player who had the most blocks:\n",
      "Name          Myles Turner\n",
      "Height                  83\n",
      "Weight                 250\n",
      "Team        Indiana Pacers\n",
      "Age                     22\n",
      "Salary             3410284\n",
      "Points                13.3\n",
      "Blocks                 2.7\n",
      "Steals                 0.8\n",
      "Assists                1.6\n",
      "Rebounds               7.2\n",
      "FT%                  0.736\n",
      "FTA                    2.7\n",
      "FG3%                 0.388\n",
      "FG3A                   2.6\n",
      "FG%                  0.487\n",
      "FGA                   10.5\n",
      "MP                    28.6\n",
      "G                       74\n",
      "PER                   18.0\n",
      "OWS                    1.9\n",
      "DWS                    4.4\n",
      "WS                     6.3\n",
      "WS48                 0.144\n",
      "USG                   20.0\n",
      "BPM                    3.3\n",
      "VORP                   2.8\n",
      "Name: 476, dtype: object\n",
      "The player is not likely a post player\n"
     ]
    }
   ],
   "source": [
    "nba18 = pd.read_csv('../Downloads/nbastats2018-2019.csv', sep=',')\n",
    "nba19 = pd.read_csv('../Downloads/nbastats2018-2019.csv', sep=',')\n",
    "\n",
    "\n",
    "nba = pd.concat([nba18, nba19])\n",
    "\n",
    "max_blocks_player = nba.loc[nba['Blocks'].idxmax()].iloc[0]  \n",
    "\n",
    "print(\"Player who had the most blocks:\")\n",
    "print(max_blocks_player)\n",
    "\n",
    "blocks_position_threshold = 100  \n",
    "blocks_value = max_blocks_player['Blocks']  \n",
    "\n",
    "if blocks_value >= blocks_position_threshold:\n",
    "    if blocks_value >= 150: \n",
    "        print(\"The player is likely a Center (C)\")\n",
    "    else:\n",
    "        print(\"The player is likely a Forward (F)\")\n",
    "else:\n",
    "    print(\"The player is not likely a post player\")"
   ]
  },
  {
   "cell_type": "markdown",
   "metadata": {},
   "source": [
    "# Based on the regular season, who had the best chance to win a title given their win percentage?"
   ]
  },
  {
   "cell_type": "code",
   "execution_count": 37,
   "metadata": {},
   "outputs": [
    {
     "name": "stdout",
     "output_type": "stream",
     "text": [
      "Team with the best chance to win a title:\n",
      "Team: Houston Rockets\n",
      "Win Percentage: 0.07758913412563667\n"
     ]
    }
   ],
   "source": [
    "nba18 = pd.read_csv('../Downloads/nbastats2018-2019.csv', sep=',')\n",
    "nba19 = pd.read_csv('../Downloads/nbastats2018-2019.csv', sep=',')\n",
    "\n",
    "nba = pd.concat([nba18, nba19])\n",
    "\n",
    "team_win_percentage = nba.groupby('Team')['WS'].sum() / nba.groupby('Team')['G'].sum()\n",
    "\n",
    "best_team = team_win_percentage.idxmax()\n",
    "best_win_percentage = team_win_percentage.max()\n",
    "\n",
    "print(\"Team with the best chance to win a title:\")\n",
    "print(\"Team:\", best_team)\n",
    "print(\"Win Percentage:\", best_win_percentage)\n"
   ]
  },
  {
   "cell_type": "markdown",
   "metadata": {},
   "source": [
    "# What player had the best 3-pt percentage? "
   ]
  },
  {
   "cell_type": "code",
   "execution_count": 39,
   "metadata": {},
   "outputs": [
    {
     "name": "stdout",
     "output_type": "stream",
     "text": [
      "Player with the best 3-point percentage:\n",
      "                   Name  FG3%  FG3%  FG3A\n",
      "94  Willie Cauley-Stein   inf   inf   0.0\n",
      "94  Willie Cauley-Stein   inf   inf   0.0\n"
     ]
    }
   ],
   "source": [
    "nba18 = pd.read_csv('../Downloads/nbastats2018-2019.csv', sep=',')\n",
    "nba19 = pd.read_csv('../Downloads/nbastats2018-2019.csv', sep=',')\n",
    "\n",
    "nba = pd.concat([nba18, nba19])\n",
    "\n",
    "nba['FG3%'] = nba['FG3%'] / nba['FG3A']\n",
    "\n",
    "best_3pt_player = nba.loc[nba['FG3%'].idxmax()]\n",
    "\n",
    "print(\"Player with the best 3-point percentage:\")\n",
    "print(best_3pt_player[['Name', 'FG3%', 'FG3%', 'FG3A']])"
   ]
  },
  {
   "cell_type": "markdown",
   "metadata": {},
   "source": [
    "# Who played the most minutes during the season"
   ]
  },
  {
   "cell_type": "code",
   "execution_count": 40,
   "metadata": {},
   "outputs": [
    {
     "name": "stdout",
     "output_type": "stream",
     "text": [
      "Player who played the most minutes:\n",
      "            Name    MP\n",
      "37  Bradley Beal  36.9\n",
      "37  Bradley Beal  36.9\n"
     ]
    }
   ],
   "source": [
    "nba18 = pd.read_csv('../Downloads/nbastats2018-2019.csv', sep=',')\n",
    "nba19 = pd.read_csv('../Downloads/nbastats2018-2019.csv', sep=',')\n",
    "\n",
    "nba = pd.concat([nba18, nba19])\n",
    "\n",
    "most_minutes_player = nba.loc[nba['MP'].idxmax()]\n",
    "\n",
    "print(\"Player who played the most minutes:\")\n",
    "print(most_minutes_player[['Name', 'MP']])\n"
   ]
  },
  {
   "cell_type": "markdown",
   "metadata": {},
   "source": [
    "# What player given their player effiecency rating was the clutchest during the season?"
   ]
  },
  {
   "cell_type": "code",
   "execution_count": 41,
   "metadata": {},
   "outputs": [
    {
     "name": "stdout",
     "output_type": "stream",
     "text": [
      "Clutchest player based on Player Efficiency Rating (PER):\n",
      "        Name   PER\n",
      "405  Zhou Qi  80.4\n",
      "405  Zhou Qi  80.4\n"
     ]
    }
   ],
   "source": [
    "nba18 = pd.read_csv('../Downloads/nbastats2018-2019.csv', sep=',')\n",
    "nba19 = pd.read_csv('../Downloads/nbastats2018-2019.csv', sep=',')\n",
    "\n",
    "nba = pd.concat([nba18, nba19])\n",
    "\n",
    "clutchest_player = nba.loc[nba['PER'].idxmax()]\n",
    "\n",
    "print(\"Clutchest player based on Player Efficiency Rating (PER):\")\n",
    "print(clutchest_player[['Name', 'PER']])"
   ]
  },
  {
   "cell_type": "markdown",
   "metadata": {},
   "source": [
    "# What team had the youngest roster?"
   ]
  },
  {
   "cell_type": "code",
   "execution_count": 42,
   "metadata": {},
   "outputs": [
    {
     "name": "stdout",
     "output_type": "stream",
     "text": [
      "Team with the youngest roster:\n",
      "Team: Chicago Bulls\n",
      "Average Age: 24.3125\n"
     ]
    }
   ],
   "source": [
    "nba18 = pd.read_csv('../Downloads/nbastats2018-2019.csv', sep=',')\n",
    "nba19 = pd.read_csv('../Downloads/nbastats2018-2019.csv', sep=',')\n",
    "\n",
    "nba = pd.concat([nba18, nba19])\n",
    "\n",
    "team_avg_age = nba.groupby('Team')['Age'].mean()\n",
    "\n",
    "youngest_team = team_avg_age.idxmin()\n",
    "youngest_avg_age = team_avg_age.min()\n",
    "\n",
    "print(\"Team with the youngest roster:\")\n",
    "print(\"Team:\", youngest_team)\n",
    "print(\"Average Age:\", youngest_avg_age)"
   ]
  },
  {
   "cell_type": "markdown",
   "metadata": {},
   "source": [
    "# Who is the highest paid player during the seasion?"
   ]
  },
  {
   "cell_type": "code",
   "execution_count": 44,
   "metadata": {},
   "outputs": [
    {
     "name": "stdout",
     "output_type": "stream",
     "text": [
      "Highest-paid player during the season:\n",
      "              Name      Salary\n",
      "121  Stephen Curry  37457154.0\n",
      "121  Stephen Curry  37457154.0\n"
     ]
    }
   ],
   "source": [
    "nba18 = pd.read_csv('../Downloads/nbastats2018-2019.csv', sep=',')\n",
    "nba19 = pd.read_csv('../Downloads/nbastats2018-2019.csv', sep=',')\n",
    "\n",
    "nba = pd.concat([nba18, nba19])\n",
    "\n",
    "nba['Salary'] = pd.to_numeric(nba['Salary'], errors='coerce')\n",
    "\n",
    "\n",
    "highest_paid_player = nba.loc[nba['Salary'].idxmax()]\n",
    "\n",
    "print(\"Highest-paid player during the season:\")\n",
    "print(highest_paid_player[['Name', 'Salary']])"
   ]
  },
  {
   "cell_type": "markdown",
   "metadata": {},
   "source": [
    "# At the end of a game, who WOULDN'T you want on the Free Throw Line?"
   ]
  },
  {
   "cell_type": "code",
   "execution_count": 49,
   "metadata": {},
   "outputs": [
    {
     "name": "stdout",
     "output_type": "stream",
     "text": [
      "No players with enough free throws.\n"
     ]
    }
   ],
   "source": [
    "nba18 = pd.read_csv('../Downloads/nbastats2018-2019.csv', sep=',')\n",
    "nba19 = pd.read_csv('../Downloads/nbastats2018-2019.csv', sep=',')\n",
    "\n",
    "nba = pd.concat([nba18, nba19])\n",
    "\n",
    "min_free_throws = 100\n",
    "nba = nba.dropna(subset=['FT%'])  \n",
    "nba = nba[nba['FT%'] >= min_free_throws]\n",
    "\n",
    "if nba.empty:\n",
    "    print(\"No players with enough free throws.\")\n",
    "else:\n",
    "    \n",
    "    nba['FT%'] = nba['FT'] / nba['FTA']\n",
    "\n",
    " \n",
    "    worst_ft_player = nba.loc[nba['FT%'].idxmin()]\n",
    "\n",
    "    print(\"Player you wouldn't want on the free-throw line at the end of the game:\")\n",
    "    print(worst_ft_player[['Name', 'FT%', 'FT', 'FTA']])\n"
   ]
  }
 ],
 "metadata": {
  "kernelspec": {
   "display_name": "Python 3 (ipykernel)",
   "language": "python",
   "name": "python3"
  },
  "language_info": {
   "codemirror_mode": {
    "name": "ipython",
    "version": 3
   },
   "file_extension": ".py",
   "mimetype": "text/x-python",
   "name": "python",
   "nbconvert_exporter": "python",
   "pygments_lexer": "ipython3",
   "version": "3.11.5"
  }
 },
 "nbformat": 4,
 "nbformat_minor": 2
}
